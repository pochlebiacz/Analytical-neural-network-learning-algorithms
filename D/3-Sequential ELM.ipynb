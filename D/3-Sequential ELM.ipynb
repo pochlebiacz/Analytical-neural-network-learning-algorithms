{
 "cells": [
  {
   "cell_type": "code",
   "execution_count": null,
   "metadata": {},
   "outputs": [],
   "source": [
    "import torch\n",
    "import numpy as np\n",
    "import torch.nn as nn\n",
    "from scipy.io import loadmat\n",
    "import matplotlib.pyplot as plt\n",
    "from Dataset import Dataset, ELM, device\n",
    "from torch.utils.data import DataLoader\n",
    "torch.set_default_dtype(torch.float64)"
   ]
  },
  {
   "cell_type": "code",
   "execution_count": null,
   "metadata": {},
   "outputs": [],
   "source": [
    "train = loadmat('data_training_reactor_pol.mat')\n",
    "test = loadmat('data_validation_reactor_pol.mat')\n",
    "\n",
    "y_train = 0.0001*(train['NAMW'][0]-train['NAMW'][0][0])\n",
    "y_test = 0.0001*(test['NAMW'][0]-test['NAMW'][0][0])\n",
    "\n",
    "x_train = np.concatenate((100*np.concatenate(([[0]], (train['FI'].T[1:]-train['FI'].T[0])), axis=0),\n",
    "                          100*np.concatenate(([[0], [0]], (train['FI'].T[2:]-train['FI'].T[0])), axis=0),\n",
    "                          np.concatenate(([0], y_train[1:]), axis=0).reshape(-1, 1),\n",
    "                          np.concatenate(([0, 0], y_train[2:]), axis=0).reshape(-1, 1)), axis=1)\n",
    "\n",
    "x_test = np.concatenate((100*np.concatenate(([[0]], (test['FI'].T[1:]-test['FI'].T[0])), axis=0),\n",
    "                         100*np.concatenate(([[0], [0]], (test['FI'].T[2:]-test['FI'].T[0])), axis=0),\n",
    "                         np.concatenate(([0], y_test[1:]), axis=0).reshape(-1, 1),\n",
    "                         np.concatenate(([0, 0], y_test[2:]), axis=0).reshape(-1, 1)), axis=1)"
   ]
  },
  {
   "cell_type": "code",
   "execution_count": null,
   "metadata": {},
   "outputs": [],
   "source": [
    "trainset = Dataset(x_train, y_train)\n",
    "testset = Dataset(x_test, y_test)\n",
    "\n",
    "trainloader = DataLoader(trainset, batch_size=256, shuffle=False)\n",
    "testloader = DataLoader(testset, batch_size=256, shuffle=False)\n",
    "\n",
    "activation = nn.Sigmoid()"
   ]
  },
  {
   "cell_type": "code",
   "execution_count": null,
   "metadata": {},
   "outputs": [],
   "source": [
    "model = ELM(4, 50, 1).to(device)\n",
    "\n",
    "for i, (x, y) in enumerate(trainloader):\n",
    "    V = activation(model.fc1.bias.data.reshape(-1, 1) + model.fc1.weight.data @ x.T.to(device))\n",
    "    H = torch.concatenate([torch.ones(1, len(x)).to(device), V.to(device)], dim=0).T\n",
    "    T = y.reshape(1, -1).T.to(device)\n",
    "    if i == 0:\n",
    "        # W2 = torch.linalg.pinv(H) @ T.reshape(1, -1, 1)\n",
    "        P = torch.linalg.inv(H.T @ H + 1e-8*torch.eye(H.shape[1]).to(device))\n",
    "        W2 = P @ H.T @ T.reshape(1, -1, 1).to(device)\n",
    "    else:\n",
    "        P = P - P @ H.T @ torch.linalg.inv(torch.eye(H.shape[0]).to(device) + H @ P @ H.T) @ H @ P\n",
    "        W2 = W2 + P @ H.T @ (T.reshape(1, -1, 1) - H @ W2)\n",
    "model.fc2.bias.data, model.fc2.weight.data = W2[0][0], W2[0][1:].T"
   ]
  },
  {
   "cell_type": "code",
   "execution_count": null,
   "metadata": {},
   "outputs": [],
   "source": [
    "print(f'Train error: {(model(trainset[:][0].clone().detach().reshape(-1, 4).to(device))-trainset[:][1].reshape(-1, 1).to(device)).reshape(-1).pow(2).mean()}')\n",
    "print(f'Test error: {(model(testset[:][0].clone().detach().reshape(-1, 4).to(device))-testset[:][1].reshape(-1, 1).to(device)).reshape(-1).pow(2).mean()}')\n",
    "plt.plot(y_test)\n",
    "plt.plot(model(torch.tensor(x_test).reshape(-1, 4).to(device)).cpu().detach().numpy(), 'r--')\n",
    "plt.legend(['Dane weryfikujące', 'Model'], loc='upper right')\n",
    "plt.xlabel('x')\n",
    "plt.ylabel('y')\n",
    "plt.grid()\n",
    "plt.show()"
   ]
  },
  {
   "cell_type": "code",
   "execution_count": null,
   "metadata": {},
   "outputs": [],
   "source": [
    "plt.plot([np.min(y_test), np.max(y_test)], [np.min(y_test), np.max(y_test)])\n",
    "plt.plot(y_test, model(torch.tensor(x_test).reshape(-1, 4).to(device)).cpu().detach().numpy(), '.', markersize=1)\n",
    "plt.legend(['Dane', 'Model'], loc='upper left')\n",
    "plt.xlabel('Dane')\n",
    "plt.ylabel('Model')\n",
    "plt.grid()\n",
    "plt.show()"
   ]
  }
 ],
 "metadata": {
  "kernelspec": {
   "display_name": "Python 3",
   "language": "python",
   "name": "python3"
  },
  "language_info": {
   "codemirror_mode": {
    "name": "ipython",
    "version": 3
   },
   "file_extension": ".py",
   "mimetype": "text/x-python",
   "name": "python",
   "nbconvert_exporter": "python",
   "pygments_lexer": "ipython3",
   "version": "3.10.12"
  }
 },
 "nbformat": 4,
 "nbformat_minor": 2
}
