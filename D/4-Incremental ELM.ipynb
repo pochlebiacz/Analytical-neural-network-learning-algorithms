{
 "cells": [
  {
   "cell_type": "code",
   "execution_count": null,
   "metadata": {},
   "outputs": [],
   "source": [
    "import torch\n",
    "import numpy as np\n",
    "import torch.nn as nn\n",
    "from scipy.io import loadmat\n",
    "import matplotlib.pyplot as plt\n",
    "from Dataset import Dataset, ELM, device\n",
    "torch.set_default_dtype(torch.float64)"
   ]
  },
  {
   "cell_type": "code",
   "execution_count": null,
   "metadata": {},
   "outputs": [],
   "source": [
    "train = loadmat('data_training_reactor_pol.mat')\n",
    "test = loadmat('data_validation_reactor_pol.mat')\n",
    "\n",
    "y_train = 0.0001*(train['NAMW'][0]-train['NAMW'][0][0])\n",
    "y_test = 0.0001*(test['NAMW'][0]-test['NAMW'][0][0])\n",
    "\n",
    "x_train = np.concatenate((100*np.concatenate(([[0]], (train['FI'].T[1:]-train['FI'].T[0])), axis=0),\n",
    "                          100*np.concatenate(([[0], [0]], (train['FI'].T[2:]-train['FI'].T[0])), axis=0),\n",
    "                          np.concatenate(([0], y_train[1:]), axis=0).reshape(-1, 1),\n",
    "                          np.concatenate(([0, 0], y_train[2:]), axis=0).reshape(-1, 1)), axis=1)\n",
    "\n",
    "x_test = np.concatenate((100*np.concatenate(([[0]], (test['FI'].T[1:]-test['FI'].T[0])), axis=0),\n",
    "                         100*np.concatenate(([[0], [0]], (test['FI'].T[2:]-test['FI'].T[0])), axis=0),\n",
    "                         np.concatenate(([0], y_test[1:]), axis=0).reshape(-1, 1),\n",
    "                         np.concatenate(([0, 0], y_test[2:]), axis=0).reshape(-1, 1)), axis=1)"
   ]
  },
  {
   "cell_type": "code",
   "execution_count": null,
   "metadata": {},
   "outputs": [],
   "source": [
    "trainset = Dataset(x_train, y_train)\n",
    "testset = Dataset(x_test, y_test)\n",
    "\n",
    "activation = nn.Sigmoid()"
   ]
  },
  {
   "cell_type": "code",
   "execution_count": null,
   "metadata": {},
   "outputs": [],
   "source": [
    "Lmax, epsilon = 1500, 1e-7\n",
    "E, L = trainset[:][1], 0\n",
    "k = 5 # 1 dla I-ELM, > 1 dla EI-ELM\n",
    "temp_model = ELM(4, Lmax, 1).to(device)\n",
    "Error = [torch.norm(E)]\n",
    "\n",
    "while L < Lmax and torch.norm(E) > epsilon:\n",
    "    L += 1\n",
    "    Enorm = torch.norm(E)\n",
    "    for i in range(k):\n",
    "        W1 = torch.randn(5, 1).to(device)\n",
    "        h = activation(W1[0].reshape(-1, 1) + W1[1:].T @ trainset[:][0].T.to(device))\n",
    "        beta = torch.div(E.reshape(1, -1).to(device) @ h.T, h @ h.T).to(device)\n",
    "        if Enorm > torch.norm(E.to(device) - beta @ h) or L == 1:\n",
    "            h_star = h.to(device)\n",
    "            W1_star = W1.to(device)\n",
    "            beta_star = beta.to(device)\n",
    "            Enorm = torch.norm(E.to(device) - beta @ h)\n",
    "    E = E.to(device) - beta_star @ h_star\n",
    "    Error.append(torch.norm(E.cpu()))\n",
    "    temp_model.fc1.bias.data[L-1], temp_model.fc1.weight.data[L-1], temp_model.fc2.weight.data[:,L-1] = W1_star[0], W1_star[1], beta_star\n",
    "\n",
    "plt.plot(Error)\n",
    "plt.plot([epsilon]*len(Error), 'r--')\n",
    "plt.grid()\n",
    "plt.show()"
   ]
  },
  {
   "cell_type": "code",
   "execution_count": null,
   "metadata": {},
   "outputs": [],
   "source": [
    "model = ELM(4, L, 1).to(device)\n",
    "\n",
    "model.fc1.bias.data, model.fc1.weight.data, model.fc2.weight.data = \\\n",
    "temp_model.fc1.bias.data[:L], temp_model.fc1.weight.data[:L], temp_model.fc2.weight.data[:L]"
   ]
  },
  {
   "cell_type": "code",
   "execution_count": null,
   "metadata": {},
   "outputs": [],
   "source": [
    "print(f'Train error: {(model(trainset[:][0].clone().detach().reshape(-1, 4).to(device))-trainset[:][1].reshape(-1, 1).to(device)).reshape(-1).pow(2).mean()}')\n",
    "print(f'Test error: {(model(testset[:][0].clone().detach().reshape(-1, 4).to(device))-testset[:][1].reshape(-1, 1).to(device)).reshape(-1).pow(2).mean()}')\n",
    "plt.plot(y_test)\n",
    "plt.plot(model(torch.tensor(x_test).reshape(-1, 4).to(device)).cpu().detach().numpy(), 'r--')\n",
    "plt.legend(['Dane weryfikujące', 'Model'], loc='upper right')\n",
    "plt.xlabel('x')\n",
    "plt.ylabel('y')\n",
    "plt.grid()\n",
    "plt.show()"
   ]
  },
  {
   "cell_type": "code",
   "execution_count": null,
   "metadata": {},
   "outputs": [],
   "source": [
    "plt.plot([np.min(y_test), np.max(y_test)], [np.min(y_test), np.max(y_test)])\n",
    "plt.plot(y_test, model(torch.tensor(x_test).reshape(-1, 4).to(device)).cpu().detach().numpy(), '.', markersize=1)\n",
    "plt.grid()\n",
    "plt.show()"
   ]
  }
 ],
 "metadata": {
  "kernelspec": {
   "display_name": "Python 3",
   "language": "python",
   "name": "python3"
  },
  "language_info": {
   "codemirror_mode": {
    "name": "ipython",
    "version": 3
   },
   "file_extension": ".py",
   "mimetype": "text/x-python",
   "name": "python",
   "nbconvert_exporter": "python",
   "pygments_lexer": "ipython3",
   "version": "3.11.4"
  }
 },
 "nbformat": 4,
 "nbformat_minor": 2
}
