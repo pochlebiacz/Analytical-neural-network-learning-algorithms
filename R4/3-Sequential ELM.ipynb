{
 "cells": [
  {
   "cell_type": "code",
   "execution_count": 19,
   "metadata": {},
   "outputs": [],
   "source": [
    "import torch\n",
    "import numpy as np\n",
    "import torch.nn as nn\n",
    "import matplotlib.pyplot as plt\n",
    "from Dataset import Dataset\n",
    "from torch.utils.data import DataLoader\n",
    "torch.set_default_dtype(torch.float64)"
   ]
  },
  {
   "cell_type": "code",
   "execution_count": 20,
   "metadata": {},
   "outputs": [],
   "source": [
    "def f(x, y, z, w):\n",
    "    return -x**4+200*x+y**4-200*y-z**4+200*z-w**4+200*w\n",
    "\n",
    "num_of_samples = 30\n",
    "x_data = np.float64(np.linspace(-5, 5, num_of_samples))\n",
    "y_data = np.float64(np.linspace(-5, 5, num_of_samples))\n",
    "z_data = np.float64(np.linspace(-5, 5, num_of_samples))\n",
    "w_data = np.float64(np.linspace(-5, 5, num_of_samples))\n",
    "\n",
    "X, Y, Z, W = np.meshgrid(x_data, y_data, z_data, w_data)\n",
    "outs = f(X, Y, Z, W)"
   ]
  },
  {
   "cell_type": "code",
   "execution_count": 21,
   "metadata": {},
   "outputs": [],
   "source": [
    "dataset = Dataset(np.concatenate((X.reshape(-1, 1), Y.reshape(-1, 1), Z.reshape(-1, 1), W.reshape(-1, 1)), axis=1), outs.reshape(-1, 1))\n",
    "trainset, testset = torch.utils.data.random_split(dataset, [0.9, 0.1], generator=torch.Generator().manual_seed(42))\n",
    "\n",
    "trainloader = DataLoader(trainset, batch_size=256, shuffle=True)\n",
    "testloader = DataLoader(testset, batch_size=256, shuffle=False)\n",
    "\n",
    "activation = nn.Sigmoid()"
   ]
  },
  {
   "cell_type": "code",
   "execution_count": 22,
   "metadata": {},
   "outputs": [],
   "source": [
    "class ELM(nn.Module):\n",
    "    def __init__(self, input_size, hidden_size, output_size):\n",
    "        super().__init__()\n",
    "        self.fc1 = nn.Linear(input_size, hidden_size)\n",
    "        self.fc2 = nn.Linear(hidden_size, output_size)\n",
    "\n",
    "    def forward(self, x):\n",
    "        x = self.fc1(x)\n",
    "        x = activation(x)\n",
    "        x = self.fc2(x)\n",
    "        return x\n",
    "\n",
    "model = ELM(4, 1000, 1)"
   ]
  },
  {
   "cell_type": "code",
   "execution_count": 23,
   "metadata": {},
   "outputs": [],
   "source": [
    "for i, (x, y) in enumerate(trainloader):\n",
    "    V = activation(model.fc1.bias.data.reshape(-1, 1) + model.fc1.weight.data @ x.T)\n",
    "    H = torch.concatenate([torch.ones(1, len(x)), V], dim=0).T\n",
    "    T = y.reshape(1, -1).T\n",
    "    if i == 0:\n",
    "        # W2 = torch.linalg.pinv(H) @ T.reshape(1, -1, 1)\n",
    "        P = torch.linalg.inv(H.T @ H + 1e-8*torch.eye(H.shape[1]))\n",
    "        W2 = P @ H.T @ T.reshape(1, -1, 1)\n",
    "    else:\n",
    "        P = P - P @ H.T @ torch.linalg.inv(torch.eye(H.shape[0]) + H @ P @ H.T) @ H @ P\n",
    "        W2 = W2 + P @ H.T @ (T.reshape(1, -1, 1) - H @ W2)\n",
    "model.fc2.bias.data, model.fc2.weight.data = W2[0][0], W2[0][1:].T"
   ]
  },
  {
   "cell_type": "code",
   "execution_count": 24,
   "metadata": {},
   "outputs": [
    {
     "name": "stdout",
     "output_type": "stream",
     "text": [
      "Train error: 134.3749701828298\n",
      "Test error: 135.5572044143253\n"
     ]
    },
    {
     "data": {
      "image/png": "[encoded data removed]",
      "text/plain": [
       "<Figure size 640x480 with 1 Axes>"
      ]
     },
     "metadata": {},
     "output_type": "display_data"
    }
   ],
   "source": [
    "print(f'Train error: {(model(trainset[:][0].clone().detach().reshape(-1, 4))-trainset[:][1].reshape(-1, 1)).reshape(-1).pow(2).mean()}')\n",
    "print(f'Test error: {(model(testset[:][0].clone().detach().reshape(-1, 4))-testset[:][1].reshape(-1, 1)).reshape(-1).pow(2).mean()}')\n",
    "plt.plot([np.min(outs), np.max(outs)], [np.min(outs), np.max(outs)])\n",
    "plt.plot(outs.reshape(-1), model(torch.cat((torch.Tensor(X).reshape(-1, 1), torch.Tensor(Y).reshape(-1, 1),torch.Tensor(Z).reshape(-1, 1), torch.Tensor(W).reshape(-1, 1)), axis=1)).detach().numpy().reshape(-1), '.', markersize=1)\n",
    "plt.xlabel('Predykcja')\n",
    "plt.ylabel('Dane')\n",
    "plt.grid()\n",
    "plt.show()"
   ]
  }
 ],
 "metadata": {
  "kernelspec": {
   "display_name": "Python 3",
   "language": "python",
   "name": "python3"
  },
  "language_info": {
   "codemirror_mode": {
    "name": "ipython",
    "version": 3
   },
   "file_extension": ".py",
   "mimetype": "text/x-python",
   "name": "python",
   "nbconvert_exporter": "python",
   "pygments_lexer": "ipython3",
   "version": "3.11.4"
  }
 },
 "nbformat": 4,
 "nbformat_minor": 2
}
