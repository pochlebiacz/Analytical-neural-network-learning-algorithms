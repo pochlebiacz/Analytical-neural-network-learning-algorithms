{
 "cells": [
  {
   "cell_type": "code",
   "execution_count": null,
   "metadata": {},
   "outputs": [],
   "source": [
    "import copy\n",
    "import torch\n",
    "import numpy as np\n",
    "import torch.nn as nn\n",
    "import matplotlib.pyplot as plt\n",
    "from Dataset import Dataset, ELM, device\n",
    "from torch.utils.data import DataLoader\n",
    "torch.set_default_dtype(torch.float64)"
   ]
  },
  {
   "cell_type": "code",
   "execution_count": null,
   "metadata": {},
   "outputs": [],
   "source": [
    "def f(x, y, z, w):\n",
    "    return -x**4+200*x+y**4-200*y-z**4+200*z+w**4-200*w\n",
    "\n",
    "num_of_samples = 10\n",
    "x_data = np.float64(np.linspace(-5, 5, num_of_samples))\n",
    "y_data = np.float64(np.linspace(-5, 5, num_of_samples))\n",
    "z_data = np.float64(np.linspace(-5, 5, num_of_samples))\n",
    "w_data = np.float64(np.linspace(-5, 5, num_of_samples))\n",
    "\n",
    "X, Y, Z, W = np.meshgrid(x_data, y_data, z_data, w_data)\n",
    "outs = f(X, Y, Z, W)"
   ]
  },
  {
   "cell_type": "code",
   "execution_count": null,
   "metadata": {},
   "outputs": [],
   "source": [
    "dataset = Dataset(np.concatenate((X.reshape(-1, 1), Y.reshape(-1, 1), Z.reshape(-1, 1), W.reshape(-1, 1)), axis=1), outs.reshape(-1, 1))\n",
    "trainset, testset = torch.utils.data.random_split(dataset, [0.9, 0.1], generator=torch.Generator().manual_seed(42))\n",
    "\n",
    "trainloader = DataLoader(trainset, batch_size=256, shuffle=True)\n",
    "testloader = DataLoader(testset, batch_size=256, shuffle=False)\n",
    "\n",
    "activation = nn.Sigmoid()"
   ]
  },
  {
   "cell_type": "code",
   "execution_count": null,
   "metadata": {},
   "outputs": [],
   "source": [
    "model = ELM(4, 100, 1).to(device)"
   ]
  },
  {
   "cell_type": "code",
   "execution_count": null,
   "metadata": {},
   "outputs": [],
   "source": [
    "\n",
    "V = activation(model.fc1.bias.data.reshape(-1, 1) + model.fc1.weight.data @ trainset[:][0].T.to(device))\n",
    "H = torch.concatenate([torch.ones(1, len(trainset)).to(device), V.to(device)], dim=0).T\n",
    "T = trainset[:][1].reshape(1, -1).T.to(device)\n",
    "W2 = torch.linalg.pinv(H) @ T.reshape(1, -1, 1)\n",
    "model.fc2.bias.data, model.fc2.weight.data = W2[0][0], W2[0][1:].T"
   ]
  },
  {
   "cell_type": "code",
   "execution_count": null,
   "metadata": {},
   "outputs": [],
   "source": [
    "def infGain(model, loader):\n",
    "    model.eval()\n",
    "    loss = 0\n",
    "    for x, y in loader:\n",
    "        x, y = x.reshape(-1, 4).to(device), y.reshape(-1, 1).to(device)\n",
    "        preds = model(x).to(device)\n",
    "        loss += torch.norm(preds - y) \n",
    "    return loss\n",
    "\n",
    "def prune(model, loader):\n",
    "    inf = []\n",
    "    model.eval()\n",
    "    with torch.no_grad():\n",
    "        for i in range(model.fc1.out_features):\n",
    "            fc1_weight_temp = copy.deepcopy(model.fc1.weight.data[i])\n",
    "            fc1_bias_temp = copy.deepcopy(model.fc1.bias.data[i])\n",
    "            fc2_weight_temp = copy.deepcopy(model.fc2.weight.data[:,i])\n",
    "            model.fc1.weight.data[i] = 0\n",
    "            model.fc1.bias.data[i] = 0\n",
    "            model.fc2.weight.data[:,i] = 0\n",
    "            inf.append(infGain(model, loader))\n",
    "            model.fc1.weight.data[i] = fc1_weight_temp\n",
    "            model.fc1.bias.data[i] = fc1_bias_temp\n",
    "            model.fc2.weight.data[:,i] = fc2_weight_temp\n",
    "        neuron_to_prune = np.argmin(torch.tensor(inf).cpu().detach().numpy())\n",
    "        pruned_model = ELM(1, model.fc1.out_features-1, 1)\n",
    "        pruned_model.fc1.weight.data = torch.cat([model.fc1.weight.data[:neuron_to_prune], model.fc1.weight.data[neuron_to_prune+1:]])\n",
    "        pruned_model.fc1.bias.data = torch.cat([model.fc1.bias.data[:neuron_to_prune], model.fc1.bias.data[neuron_to_prune+1:]])\n",
    "        pruned_model.fc2.weight.data = torch.cat([model.fc2.weight.data[:,:neuron_to_prune],model.fc2.weight.data[:,neuron_to_prune+1:]], dim=1)\n",
    "    return pruned_model\n",
    "\n",
    "for _ in range(2):\n",
    "    model = prune(model, testloader).to(device)\n",
    "\n",
    "V = activation(model.fc1.bias.data.reshape(-1, 1) + model.fc1.weight.data @ trainset[:][0].T.to(device))\n",
    "H = torch.concatenate([torch.ones(1, len(trainset)).to(device), V.to(device)], dim=0).T\n",
    "T = trainset[:][1].reshape(1, -1).T.to(device)\n",
    "W2 = torch.linalg.pinv(H) @ T.reshape(1, -1, 1)\n",
    "model.fc2.bias.data, model.fc2.weight.data = W2[0][0], W2[0][1:].T"
   ]
  },
  {
   "cell_type": "code",
   "execution_count": null,
   "metadata": {},
   "outputs": [],
   "source": [
    "print(f'Train error: {(model(trainset[:][0].clone().detach().reshape(-1, 4).to(device))-trainset[:][1].reshape(-1, 1).to(device)).reshape(-1).pow(2).mean()}')\n",
    "print(f'Test error: {(model(testset[:][0].clone().detach().reshape(-1, 4).to(device))-testset[:][1].reshape(-1, 1).to(device)).reshape(-1).pow(2).mean()}')\n",
    "plt.plot([np.min(outs), np.max(outs)], [np.min(outs), np.max(outs)])\n",
    "plt.plot(outs.reshape(-1), model(torch.cat((torch.Tensor(X).reshape(-1, 1), torch.Tensor(Y).reshape(-1, 1), torch.Tensor(Z).reshape(-1, 1), torch.Tensor(W).reshape(-1, 1)), axis=1).to(device)).cpu().detach().numpy().reshape(-1), '.', markersize=1)\n",
    "plt.legend(['Dane', 'Model'], loc='upper left')\n",
    "plt.xlabel('Dane')\n",
    "plt.ylabel('Model')\n",
    "plt.grid()\n",
    "plt.show()"
   ]
  }
 ],
 "metadata": {
  "kernelspec": {
   "display_name": "Python 3",
   "language": "python",
   "name": "python3"
  },
  "language_info": {
   "codemirror_mode": {
    "name": "ipython",
    "version": 3
   },
   "file_extension": ".py",
   "mimetype": "text/x-python",
   "name": "python",
   "nbconvert_exporter": "python",
   "pygments_lexer": "ipython3",
   "version": "3.11.4"
  }
 },
 "nbformat": 4,
 "nbformat_minor": 2
}
