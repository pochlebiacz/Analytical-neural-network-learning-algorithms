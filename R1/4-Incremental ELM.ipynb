{
 "cells": [
  {
   "cell_type": "code",
   "execution_count": null,
   "metadata": {},
   "outputs": [],
   "source": [
    "import torch\n",
    "import numpy as np\n",
    "import torch.nn as nn\n",
    "import matplotlib.pyplot as plt\n",
    "from Dataset import Dataset, ELM, device\n",
    "torch.set_default_dtype(torch.float64)"
   ]
  },
  {
   "cell_type": "code",
   "execution_count": null,
   "metadata": {},
   "outputs": [],
   "source": [
    "x_data = np.float64(np.linspace(-15, 15, 600))\n",
    "y_data = np.float64(np.sin(x_data) / x_data)\n",
    "# y_data = np.float64(np.sin(x_data) / x_data + np.random.normal(0, 0.1, 600))"
   ]
  },
  {
   "cell_type": "code",
   "execution_count": null,
   "metadata": {},
   "outputs": [],
   "source": [
    "dataset = Dataset(x_data, y_data)\n",
    "trainset, testset = torch.utils.data.random_split(dataset, [0.9, 0.1], generator=torch.Generator().manual_seed(42))\n",
    "\n",
    "activation = nn.Sigmoid()"
   ]
  },
  {
   "cell_type": "code",
   "execution_count": null,
   "metadata": {},
   "outputs": [],
   "source": [
    "Lmax, epsilon = 1000, 1e-7\n",
    "E, L = trainset[:][1], 0\n",
    "k = 5 # 1 dla I-ELM, > 1 dla EI-ELM\n",
    "temp_model = ELM(1, Lmax, 1).to(device)\n",
    "Error = [torch.norm(E)]\n",
    "\n",
    "while L < Lmax and torch.norm(E) > epsilon:\n",
    "    L += 1\n",
    "    Enorm = torch.norm(E)\n",
    "    for i in range(k):\n",
    "        W1 = torch.randn(2, 1).to(device)\n",
    "        h = activation(W1[0].reshape(-1, 1) + W1[1] @ trainset[:][0].reshape(1, -1).to(device))\n",
    "        beta = torch.div(E.reshape(1, -1).to(device) @ h.T, h @ h.T).to(device)\n",
    "        if Enorm > torch.norm(E.to(device) - beta @ h) or L == 1:\n",
    "            h_star = h.to(device)\n",
    "            W1_star = W1.to(device)\n",
    "            beta_star = beta.to(device)\n",
    "            Enorm = torch.norm(E.to(device) - beta @ h)\n",
    "    E = E.to(device) - beta_star @ h_star\n",
    "    Error.append(torch.norm(E.cpu()))\n",
    "    temp_model.fc1.bias.data[L-1], temp_model.fc1.weight.data[L-1], temp_model.fc2.weight.data[:,L-1] = W1_star[0], W1_star[1], beta_star\n",
    "\n",
    "plt.plot(Error)\n",
    "plt.plot([epsilon]*len(Error), 'r--')\n",
    "plt.grid()\n",
    "plt.show()"
   ]
  },
  {
   "cell_type": "code",
   "execution_count": null,
   "metadata": {},
   "outputs": [],
   "source": [
    "model = ELM(1, L, 1).to(device)\n",
    "\n",
    "model.fc1.bias.data, model.fc1.weight.data, model.fc2.weight.data = \\\n",
    "temp_model.fc1.bias.data[:L], temp_model.fc1.weight.data[:L], temp_model.fc2.weight.data[:L]"
   ]
  },
  {
   "cell_type": "code",
   "execution_count": null,
   "metadata": {},
   "outputs": [],
   "source": [
    "print(f'Train error: {(model(trainset[:][0].clone().detach().reshape(-1, 1).to(device))-trainset[:][1].reshape(-1, 1).to(device)).reshape(-1).pow(2).mean()}')\n",
    "print(f'Test error: {(model(testset[:][0].clone().detach().reshape(-1, 1).to(device))-testset[:][1].reshape(-1, 1).to(device)).reshape(-1).pow(2).mean()}')\n",
    "plt.plot(x_data, y_data)\n",
    "plt.plot(x_data, model(torch.tensor(x_data).reshape(-1, 1).to(device)).cpu().detach().numpy(), 'r--')\n",
    "plt.legend(['Dane', 'Model'], loc='upper right')\n",
    "plt.xlabel('x')\n",
    "plt.ylabel('y')\n",
    "plt.grid()\n",
    "plt.show()"
   ]
  },
  {
   "cell_type": "code",
   "execution_count": null,
   "metadata": {},
   "outputs": [],
   "source": [
    "plt.plot([np.min(y_data), np.max(y_data)], [np.min(y_data), np.max(y_data)])\n",
    "plt.plot(y_data, model(torch.tensor(x_data).reshape(-1, 1)).detach().numpy(), '.', markersize=1)\n",
    "plt.grid()\n",
    "plt.show()"
   ]
  }
 ],
 "metadata": {
  "kernelspec": {
   "display_name": "Python 3",
   "language": "python",
   "name": "python3"
  },
  "language_info": {
   "codemirror_mode": {
    "name": "ipython",
    "version": 3
   },
   "file_extension": ".py",
   "mimetype": "text/x-python",
   "name": "python",
   "nbconvert_exporter": "python",
   "pygments_lexer": "ipython3",
   "version": "3.11.4"
  }
 },
 "nbformat": 4,
 "nbformat_minor": 2
}
