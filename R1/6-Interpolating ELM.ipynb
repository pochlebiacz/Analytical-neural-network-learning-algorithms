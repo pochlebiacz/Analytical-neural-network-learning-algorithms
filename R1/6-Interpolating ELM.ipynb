{
 "cells": [
  {
   "cell_type": "code",
   "execution_count": null,
   "metadata": {},
   "outputs": [],
   "source": [
    "import torch\n",
    "import numpy as np\n",
    "import torch.nn as nn\n",
    "import matplotlib.pyplot as plt\n",
    "from Dataset import Dataset, ELM, device\n",
    "from torch.utils.data import DataLoader\n",
    "torch.set_default_dtype(torch.float64)"
   ]
  },
  {
   "cell_type": "code",
   "execution_count": null,
   "metadata": {},
   "outputs": [],
   "source": [
    "x_data = np.float64(np.linspace(-15, 15, 600))\n",
    "y_data = np.float64(np.sin(x_data) / x_data)\n",
    "# y_data = np.float64(np.sin(x_data) / x_data + np.random.normal(0, 0.1, 600))"
   ]
  },
  {
   "cell_type": "code",
   "execution_count": null,
   "metadata": {},
   "outputs": [],
   "source": [
    "dataset = Dataset(x_data, y_data)\n",
    "\n",
    "intersize, testsize = 10, 60\n",
    "interset, trainset, testset = torch.utils.data.random_split(dataset, [intersize, len(dataset)-intersize-testsize, testsize], generator=torch.Generator().manual_seed(42)) # 0.1=3000\n",
    "\n",
    "trainloader = DataLoader(trainset, batch_size=256, shuffle=True)\n",
    "testloader = DataLoader(testset, batch_size=256, shuffle=False)\n",
    "\n",
    "activation = nn.Sigmoid()"
   ]
  },
  {
   "cell_type": "code",
   "execution_count": null,
   "metadata": {},
   "outputs": [],
   "source": [
    "model = ELM(1, intersize, 1).to(device)\n",
    "\n",
    "V = activation(model.fc1.bias.data.reshape(-1, 1) + model.fc1.weight.data @ interset[:][0].reshape(1, -1).to(device))\n",
    "H = torch.concatenate([torch.ones(1, len(interset)).to(device), V.to(device)], dim=0).T\n",
    "T = interset[:][1].reshape(1, -1).T.to(device)\n",
    "W2 = torch.linalg.pinv(H) @ T.reshape(1, -1, 1)\n",
    "model.fc2.bias.data, model.fc2.weight.data = W2[0][0], W2[0][1:].T"
   ]
  },
  {
   "cell_type": "code",
   "execution_count": null,
   "metadata": {},
   "outputs": [],
   "source": [
    "criterion = nn.MSELoss()\n",
    "optimizer = torch.optim.Adam(model.parameters(), lr=1e-9, foreach=False)"
   ]
  },
  {
   "cell_type": "code",
   "execution_count": null,
   "metadata": {},
   "outputs": [],
   "source": [
    "num_epochs = 100\n",
    "all_losses = []\n",
    "model.train()\n",
    "\n",
    "for epoch in range(num_epochs):\n",
    "    for i, (x, y) in enumerate(trainloader):\n",
    "        optimizer.zero_grad()\n",
    "        x, y = x.reshape(-1, 1).to(device), y.reshape(-1, 1).to(device)\n",
    "        preds = model(x)\n",
    "        loss = criterion(preds, y)\n",
    "        loss.backward()\n",
    "        optimizer.step()\n",
    "    all_losses.append(loss.item())\n",
    "    print(f'Epoch: [{epoch+1}/{num_epochs}], loss: {loss.item():.6f}')\n",
    "\n",
    "plt.plot(all_losses)\n",
    "plt.yscale('log')\n",
    "plt.title('Uczenie modelu')\n",
    "plt.xlabel('Epoki uczące')\n",
    "plt.ylabel('Błąd średniokwadratowy')\n",
    "plt.grid()\n",
    "plt.show()"
   ]
  },
  {
   "cell_type": "code",
   "execution_count": null,
   "metadata": {},
   "outputs": [],
   "source": [
    "print(f'Train error: {(model(trainset[:][0].clone().detach().reshape(-1, 1).to(device))-trainset[:][1].reshape(-1, 1).to(device)).reshape(-1).pow(2).mean()}')\n",
    "print(f'Test error: {(model(testset[:][0].clone().detach().reshape(-1, 1).to(device))-testset[:][1].reshape(-1, 1).to(device)).reshape(-1).pow(2).mean()}')\n",
    "plt.plot(x_data, y_data)\n",
    "plt.plot(x_data, model(torch.tensor(x_data).reshape(-1, 1).to(device)).cpu().detach().numpy(), 'r--')\n",
    "plt.plot(interset[:][0], interset[:][1], 'kx')\n",
    "plt.legend(['Dane uczące', 'Model', 'Dane interpolujące'], loc='best')\n",
    "plt.grid()\n",
    "plt.show()"
   ]
  },
  {
   "cell_type": "code",
   "execution_count": null,
   "metadata": {},
   "outputs": [],
   "source": [
    "plt.plot([np.min(y_data), np.max(y_data)], [np.min(y_data), np.max(y_data)])\n",
    "plt.plot(y_data, model(torch.tensor(x_data).reshape(-1, 1).to(device)).cpu().detach().numpy(), '.', markersize=1)\n",
    "plt.grid()\n",
    "plt.show()"
   ]
  }
 ],
 "metadata": {
  "kernelspec": {
   "display_name": "Python 3",
   "language": "python",
   "name": "python3"
  },
  "language_info": {
   "codemirror_mode": {
    "name": "ipython",
    "version": 3
   },
   "file_extension": ".py",
   "mimetype": "text/x-python",
   "name": "python",
   "nbconvert_exporter": "python",
   "pygments_lexer": "ipython3",
   "version": "3.10.12"
  }
 },
 "nbformat": 4,
 "nbformat_minor": 2
}
