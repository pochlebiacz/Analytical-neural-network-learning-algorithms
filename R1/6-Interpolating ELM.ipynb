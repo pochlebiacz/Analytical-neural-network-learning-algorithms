{
 "cells": [
  {
   "cell_type": "code",
   "execution_count": null,
   "metadata": {},
   "outputs": [],
   "source": [
    "import torch\n",
    "import numpy as np\n",
    "import torch.nn as nn\n",
    "import matplotlib.pyplot as plt\n",
    "from Dataset import Dataset, ELM, device\n",
    "from torch.utils.data import DataLoader\n",
    "torch.set_default_dtype(torch.float64)"
   ]
  },
  {
   "cell_type": "code",
   "execution_count": null,
   "metadata": {},
   "outputs": [],
   "source": [
    "x_data = np.float64(np.linspace(-15, 15, 600))\n",
    "# y_data = np.float64(np.sin(x_data) / x_data)\n",
    "y_data = np.float64(np.sin(x_data) / x_data + np.random.normal(0, 0.1, 600))"
   ]
  },
  {
   "cell_type": "code",
   "execution_count": null,
   "metadata": {},
   "outputs": [],
   "source": [
    "dataset = Dataset(x_data, y_data)\n",
    "\n",
    "intersize, testsize = 50, 60\n",
    "interset, trainset, testset = torch.utils.data.random_split(dataset, [intersize, len(dataset)-intersize-testsize, testsize], generator=torch.Generator().manual_seed(42)) # 0.1=3000\n",
    "\n",
    "trainloader = DataLoader(trainset, batch_size=128, shuffle=True)\n",
    "testloader = DataLoader(testset, batch_size=128, shuffle=False)\n",
    "\n",
    "activation = nn.Sigmoid()"
   ]
  },
  {
   "cell_type": "code",
   "execution_count": null,
   "metadata": {},
   "outputs": [],
   "source": [
    "# model = ELM(1, 50, 1).to(device)\n",
    "\n",
    "# V = activation(model.fc1.bias.data.reshape(-1, 1) + model.fc1.weight.data @ interset[:][0].reshape(1, -1))\n",
    "# H = torch.concatenate([torch.ones(1, len(interset)), V], dim=0).T\n",
    "# T = interset[:][1].reshape(1, -1).T\n",
    "# W2 = torch.linalg.pinv(H) @ T.reshape(1, -1, 1)\n",
    "# model.fc2.bias.data, model.fc2.weight.data = W2[0][0], W2[0][1:].T"
   ]
  },
  {
   "cell_type": "code",
   "execution_count": null,
   "metadata": {},
   "outputs": [],
   "source": [
    "fig, ax = plt.subplots(1, 2, figsize=(15, 5))\n",
    "max_train_error = []\n",
    "min_train_error = []\n",
    "max_test_error = []\n",
    "min_test_error = []\n",
    "num_neurons = 200\n",
    "for j in range(1, num_neurons+1):\n",
    "    print(j)\n",
    "    train_error = []\n",
    "    test_error = []\n",
    "    for i in range(10):\n",
    "        model = ELM(1, 5*j, 1).to(device)\n",
    "        criterion = nn.MSELoss()\n",
    "        optimizer = torch.optim.Adam(model.parameters(), lr=1e-9)\n",
    "        intersize = min(5*j, 100)\n",
    "        interset, trainset, testset = torch.utils.data.random_split(dataset, [intersize, len(dataset)-intersize-testsize, testsize], generator=torch.Generator().manual_seed(42))\n",
    "        trainloader = DataLoader(trainset, batch_size=128, shuffle=True)\n",
    "        testloader = DataLoader(testset, batch_size=128, shuffle=False)\n",
    "        V = activation(model.fc1.bias.data.reshape(-1, 1) + model.fc1.weight.data @ interset[:][0].reshape(1, -1).to(device))\n",
    "        H = torch.concatenate([torch.ones(1, len(interset)).to(device), V.to(device)], dim=0).T\n",
    "        T = interset[:][1].reshape(1, -1).T.to(device)\n",
    "        P = torch.linalg.inv(H.T @ H + 1e-3*torch.eye(H.shape[1]).to(device))\n",
    "        W2 = P @ H.T @ T.reshape(1, -1, 1)\n",
    "        # W2 = torch.linalg.pinv(H) @ T.reshape(1, -1, 1)\n",
    "        model.fc2.bias.data, model.fc2.weight.data = W2[0][0], W2[0][1:].T\n",
    "        num_epochs = 50\n",
    "        model.train()\n",
    "        for epoch in range(num_epochs):\n",
    "            for x, y in trainloader:\n",
    "                optimizer.zero_grad()\n",
    "                x, y = x.reshape(-1, 1).to(device), y.reshape(-1, 1).to(device)\n",
    "                preds = model(x).to(device)\n",
    "                loss = criterion(preds, y)\n",
    "                loss.backward()\n",
    "                optimizer.step()\n",
    "        train_error.append((model(trainset[:][0].clone().detach().reshape(-1, 1).to(device))-trainset[:][1].reshape(-1, 1).to(device)).reshape(-1).pow(2).mean())\n",
    "        test_error.append((model(testset[:][0].clone().detach().reshape(-1, 1).to(device))-testset[:][1].reshape(-1, 1).to(device)).reshape(-1).pow(2).mean())\n",
    "    max_train_error.append(max(train_error).item())\n",
    "    min_train_error.append(min(train_error).item())\n",
    "    max_test_error.append(max(test_error).item())\n",
    "    min_test_error.append(min(test_error).item())\n",
    "ax[0].plot([5*i+5 for i in range(num_neurons)], max_train_error, 'r', label='Błąd maksymalny')\n",
    "ax[0].plot([5*i+5 for i in range(num_neurons)], min_train_error, 'b', label='Błąd minimalny')\n",
    "ax[0].set_ylabel('Błąd średniokwadratowy zbioru uczącego')\n",
    "ax[0].set_xlabel('Liczba neuronów')\n",
    "ax[0].set_yscale('log')\n",
    "ax[0].grid()\n",
    "ax[0].legend(loc='upper right')\n",
    "ax[1].plot([5*i+5 for i in range(num_neurons)], max_test_error, 'r', label='Błąd maksymalny')\n",
    "ax[1].plot([5*i+5 for i in range(num_neurons)], min_test_error, 'b', label='Błąd minimalny')\n",
    "ax[1].set_ylabel('Błąd średniokwadratowy zbioru weryfikującego')\n",
    "ax[1].set_xlabel('Liczba neuronów')\n",
    "ax[1].set_yscale('log')\n",
    "ax[1].grid()\n",
    "ax[1].legend(loc='upper right')\n",
    "plt.show()"
   ]
  },
  {
   "cell_type": "code",
   "execution_count": null,
   "metadata": {},
   "outputs": [],
   "source": [
    "criterion = nn.MSELoss()\n",
    "optimizer = torch.optim.Adam(model.parameters(), lr=1e-9)"
   ]
  },
  {
   "cell_type": "code",
   "execution_count": null,
   "metadata": {},
   "outputs": [],
   "source": [
    "num_epochs = 100\n",
    "all_losses = []\n",
    "model.train()\n",
    "\n",
    "for epoch in range(num_epochs):\n",
    "    for i, (x, y) in enumerate(trainloader):\n",
    "        optimizer.zero_grad()\n",
    "        x, y = x.reshape(-1, 1).to(device), y.reshape(-1, 1).to(device)\n",
    "        preds = model(x).to(device)\n",
    "        loss = criterion(preds, y)\n",
    "        loss.backward()\n",
    "        optimizer.step()\n",
    "    all_losses.append(loss.item())\n",
    "    print(f'Epoch: [{epoch+1}/{num_epochs}], loss: {loss.item():.6f}')\n",
    "\n",
    "plt.plot(all_losses)\n",
    "plt.yscale('log')\n",
    "plt.title('Uczenie modelu')\n",
    "plt.xlabel('Epoki uczące')\n",
    "plt.ylabel('Błąd średniokwadratowy')\n",
    "plt.grid()\n",
    "plt.show()"
   ]
  },
  {
   "cell_type": "code",
   "execution_count": null,
   "metadata": {},
   "outputs": [],
   "source": [
    "print(f'Train error: {(model(trainset[:][0].clone().detach().reshape(-1, 1).to(device))-trainset[:][1].reshape(-1, 1).to(device)).reshape(-1).pow(2).mean()}')\n",
    "print(f'Test error: {(model(testset[:][0].clone().detach().reshape(-1, 1).to(device))-testset[:][1].reshape(-1, 1).to(device)).reshape(-1).pow(2).mean()}')\n",
    "plt.plot(x_data, y_data)\n",
    "plt.plot(x_data, model(torch.tensor(x_data).reshape(-1, 1).to(device)).cpu().detach().numpy(), 'r--')\n",
    "plt.plot(interset[:][0], interset[:][1], 'kx')\n",
    "plt.legend(['Dane', 'Model'], loc='upper right')\n",
    "plt.grid()\n",
    "plt.show()"
   ]
  },
  {
   "cell_type": "code",
   "execution_count": null,
   "metadata": {},
   "outputs": [],
   "source": [
    "plt.plot([np.min(y_data), np.max(y_data)], [np.min(y_data), np.max(y_data)])\n",
    "plt.plot(y_data, model(torch.tensor(x_data).reshape(-1, 1).to(device)).cpu().detach().numpy(), '.', markersize=1)\n",
    "plt.grid()\n",
    "plt.show()"
   ]
  }
 ],
 "metadata": {
  "kernelspec": {
   "display_name": "Python 3",
   "language": "python",
   "name": "python3"
  },
  "language_info": {
   "codemirror_mode": {
    "name": "ipython",
    "version": 3
   },
   "file_extension": ".py",
   "mimetype": "text/x-python",
   "name": "python",
   "nbconvert_exporter": "python",
   "pygments_lexer": "ipython3",
   "version": "3.11.4"
  }
 },
 "nbformat": 4,
 "nbformat_minor": 2
}
