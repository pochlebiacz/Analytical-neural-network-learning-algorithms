{
 "cells": [
  {
   "cell_type": "code",
   "execution_count": 110,
   "metadata": {},
   "outputs": [],
   "source": [
    "import copy\n",
    "import torch\n",
    "import numpy as np\n",
    "import torch.nn as nn\n",
    "import matplotlib.pyplot as plt\n",
    "from Dataset import Dataset, ELM, device\n",
    "from torch.utils.data import DataLoader\n",
    "torch.set_default_dtype(torch.float64)"
   ]
  },
  {
   "cell_type": "code",
   "execution_count": 111,
   "metadata": {},
   "outputs": [],
   "source": [
    "x_data = np.float64(np.linspace(-15, 15, 600))\n",
    "# y_data = np.float64(np.sin(x_data) / x_data)\n",
    "y_data = np.float64(np.sin(x_data) / x_data + np.random.normal(0, 0.1, 600))"
   ]
  },
  {
   "cell_type": "code",
   "execution_count": 112,
   "metadata": {},
   "outputs": [],
   "source": [
    "dataset = Dataset(x_data, y_data)\n",
    "trainset, testset = torch.utils.data.random_split(dataset, [0.9, 0.1], generator=torch.Generator().manual_seed(42))\n",
    "\n",
    "trainloader = DataLoader(trainset, batch_size=256, shuffle=True)\n",
    "testloader = DataLoader(testset, batch_size=256, shuffle=False)\n",
    "\n",
    "activation = nn.Sigmoid()"
   ]
  },
  {
   "cell_type": "code",
   "execution_count": 113,
   "metadata": {},
   "outputs": [],
   "source": [
    "# model = ELM(1, 300, 1).to(device)\n",
    "\n",
    "# V = activation(model.fc1.bias.data.reshape(-1, 1) + model.fc1.weight.data @ trainset[:][0].reshape(1, -1))\n",
    "# H = torch.concatenate([torch.ones(1, len(trainset)), V], dim=0).T\n",
    "# T = trainset[:][1].reshape(1, -1).T\n",
    "# W2 = torch.linalg.pinv(H) @ T.reshape(1, -1, 1)\n",
    "# model.fc2.bias.data, model.fc2.weight.data = W2[0][0], W2[0][1:].T"
   ]
  },
  {
   "cell_type": "code",
   "execution_count": 114,
   "metadata": {},
   "outputs": [],
   "source": [
    "def infGain(model, loader):\n",
    "    model.eval()\n",
    "    loss = 0\n",
    "    for x, y in loader:\n",
    "        x, y = x.reshape(-1, 1).to(device), y.reshape(-1, 1).to(device)\n",
    "        preds = model(x).to(device)\n",
    "        loss += torch.norm(preds - y) \n",
    "    return loss\n",
    "\n",
    "def prune(model, loader):\n",
    "    inf = []\n",
    "    model.eval()\n",
    "    with torch.no_grad():\n",
    "        for i in range(model.fc1.out_features):\n",
    "            fc1_weight_temp = copy.deepcopy(model.fc1.weight.data[i])\n",
    "            fc1_bias_temp = copy.deepcopy(model.fc1.bias.data[i])\n",
    "            fc2_weight_temp = copy.deepcopy(model.fc2.weight.data[:,i])\n",
    "            model.fc1.weight.data[i] = 0\n",
    "            model.fc1.bias.data[i] = 0\n",
    "            model.fc2.weight.data[:,i] = 0\n",
    "            inf.append(infGain(model, loader))\n",
    "            model.fc1.weight.data[i] = fc1_weight_temp\n",
    "            model.fc1.bias.data[i] = fc1_bias_temp\n",
    "            model.fc2.weight.data[:,i] = fc2_weight_temp\n",
    "        neuron_to_prune = np.argmin(torch.tensor(inf).cpu().detach().numpy())\n",
    "        pruned_model = ELM(1, model.fc1.out_features-1, 1)\n",
    "        pruned_model.fc1.weight.data = torch.cat([model.fc1.weight.data[:neuron_to_prune], model.fc1.weight.data[neuron_to_prune+1:]])\n",
    "        pruned_model.fc1.bias.data = torch.cat([model.fc1.bias.data[:neuron_to_prune], model.fc1.bias.data[neuron_to_prune+1:]])\n",
    "        pruned_model.fc2.weight.data = torch.cat([model.fc2.weight.data[:,:neuron_to_prune],model.fc2.weight.data[:,neuron_to_prune+1:]], dim=1)\n",
    "    return pruned_model\n",
    "\n",
    "# for _ in range(2):\n",
    "#     model = prune(model, testloader).to(device)\n",
    "\n",
    "# V = activation(model.fc1.bias.data.reshape(-1, 1) + model.fc1.weight.data @ trainset[:][0].reshape(1, -1))\n",
    "# H = torch.concatenate([torch.ones(1, len(trainset)), V], dim=0).T\n",
    "# T = trainset[:][1].reshape(1, -1).T\n",
    "# W2 = torch.linalg.pinv(H) @ T.reshape(1, -1, 1)\n",
    "# model.fc2.bias.data, model.fc2.weight.data = W2[0][0], W2[0][1:].T"
   ]
  },
  {
   "cell_type": "code",
   "execution_count": 115,
   "metadata": {},
   "outputs": [
    {
     "name": "stdout",
     "output_type": "stream",
     "text": [
      "5\n"
     ]
    },
    {
     "name": "stdout",
     "output_type": "stream",
     "text": [
      "10\n",
      "50\n",
      "100\n",
      "500\n",
      "1000\n",
      "1.72e-2 & 1.51e-2 & 9.79e-3 & 9.68e-3 & 9.68e-3 & 9.69e-3 & "
     ]
    }
   ],
   "source": [
    "# fig, ax = plt.subplots(1, 2, figsize=(15, 5))\n",
    "max_train_error = []\n",
    "min_train_error = []\n",
    "max_test_error = []\n",
    "min_test_error = []\n",
    "num_neurons = 200\n",
    "a = [5, 10, 50, 100, 500, 1000]\n",
    "for j in a:\n",
    "    print(j)\n",
    "    train_error = []\n",
    "    test_error = []\n",
    "    for i in range(8):\n",
    "        model = ELM(1, j, 1).to(device)\n",
    "        V = activation(model.fc1.bias.data.reshape(-1, 1) + model.fc1.weight.data @ trainset[:][0].reshape(1, -1).to(device))\n",
    "        H = torch.concatenate([torch.ones(1, len(trainset)).to(device), V.to(device)], dim=0).T\n",
    "        T = trainset[:][1].reshape(1, -1).T.to(device)\n",
    "        W2 = torch.linalg.pinv(H) @ T.reshape(1, -1, 1) # bez regularyzacji\n",
    "        # P = torch.linalg.inv(H.T @ H + 1e-3*torch.eye(H.shape[1]))\n",
    "        # W2 = P @ H.T @ T.reshape(1, -1, 1)\n",
    "        model.fc2.bias.data, model.fc2.weight.data = W2[0][0], W2[0][1:].T\n",
    "        for _ in range(max(int(j*0.02), 1)):\n",
    "            model = prune(model, testloader).to(device)\n",
    "        V = activation(model.fc1.bias.data.reshape(-1, 1) + model.fc1.weight.data @ trainset[:][0].reshape(1, -1).to(device))\n",
    "        H = torch.concatenate([torch.ones(1, len(trainset)).to(device), V.to(device)], dim=0).T\n",
    "        T = trainset[:][1].reshape(1, -1).T.to(device)\n",
    "        W2 = torch.linalg.pinv(H) @ T.reshape(1, -1, 1)\n",
    "        # P = torch.linalg.inv(H.T @ H + 1e-3*torch.eye(H.shape[1]))\n",
    "        # W2 = P @ H.T @ T.reshape(1, -1, 1)\n",
    "        model.fc2.bias.data, model.fc2.weight.data = W2[0][0], W2[0][1:].T\n",
    "        train_error.append((model(trainset[:][0].clone().detach().reshape(-1, 1).to(device))-trainset[:][1].reshape(-1, 1).to(device)).reshape(-1).pow(2).mean())\n",
    "        test_error.append((model(testset[:][0].clone().detach().reshape(-1, 1).to(device))-testset[:][1].reshape(-1, 1).to(device)).reshape(-1).pow(2).mean())\n",
    "    max_train_error.append(max(train_error).item())\n",
    "    min_train_error.append(min(train_error).item())\n",
    "    max_test_error.append(max(test_error).item())\n",
    "    min_test_error.append(min(test_error).item())\n",
    "# ax[0].plot([5*i+5 for i in range(num_neurons)], max_train_error, 'r', label='Błąd maksymalny')\n",
    "# ax[0].plot([5*i+5 for i in range(num_neurons)], min_train_error, 'b', label='Błąd minimalny')\n",
    "# ax[0].set_ylabel('Błąd średniokwadratowy zbioru uczącego')\n",
    "# ax[0].set_xlabel('Liczba neuronów')\n",
    "# ax[0].set_yscale('log')\n",
    "# ax[0].grid()\n",
    "# ax[0].legend(loc='upper right')\n",
    "# ax[1].plot([5*i+5 for i in range(num_neurons)], max_test_error, 'r', label='Błąd maksymalny')\n",
    "# ax[1].plot([5*i+5 for i in range(num_neurons)], min_test_error, 'b', label='Błąd minimalny')\n",
    "# ax[1].set_ylabel('Błąd średniokwadratowy zbioru weryfikującego')\n",
    "# ax[1].set_xlabel('Liczba neuronów')\n",
    "# ax[1].set_yscale('log')\n",
    "# ax[1].grid()\n",
    "# ax[1].legend(loc='upper right')\n",
    "# plt.show()\n",
    "from decimal import Decimal\n",
    "for i in min_test_error:\n",
    "    print(f'{Decimal(i):.2e}', end=' & ')"
   ]
  },
  {
   "cell_type": "code",
   "execution_count": 116,
   "metadata": {},
   "outputs": [
    {
     "ename": "RuntimeError",
     "evalue": "Expected all tensors to be on the same device, but found at least two devices, cuda:0 and cpu! (when checking argument for argument mat1 in method wrapper_CUDA_addmm)",
     "output_type": "error",
     "traceback": [
      "\u001b[1;31m---------------------------------------------------------------------------\u001b[0m",
      "\u001b[1;31mRuntimeError\u001b[0m                              Traceback (most recent call last)",
      "\u001b[1;32mc:\\Users\\ASamek.ERP\\Desktop\\Pliki\\Studia\\Inzynierka\\R1\\5-Pruning ELM.ipynb Cell 7\u001b[0m line \u001b[0;36m1\n\u001b[1;32m----> <a href='vscode-notebook-cell:/c%3A/Users/ASamek.ERP/Desktop/Pliki/Studia/Inzynierka/R1/5-Pruning%20ELM.ipynb#W6sZmlsZQ%3D%3D?line=0'>1</a>\u001b[0m \u001b[39mprint\u001b[39m(\u001b[39mf\u001b[39m\u001b[39m'\u001b[39m\u001b[39mTrain error: \u001b[39m\u001b[39m{\u001b[39;00m(model(trainset[:][\u001b[39m0\u001b[39;49m]\u001b[39m.\u001b[39;49mclone()\u001b[39m.\u001b[39;49mdetach()\u001b[39m.\u001b[39;49mreshape(\u001b[39m-\u001b[39;49m\u001b[39m1\u001b[39;49m,\u001b[39m \u001b[39;49m\u001b[39m1\u001b[39;49m))\u001b[39m-\u001b[39mtrainset[:][\u001b[39m1\u001b[39m]\u001b[39m.\u001b[39mreshape(\u001b[39m-\u001b[39m\u001b[39m1\u001b[39m,\u001b[39m \u001b[39m\u001b[39m1\u001b[39m))\u001b[39m.\u001b[39mreshape(\u001b[39m-\u001b[39m\u001b[39m1\u001b[39m)\u001b[39m.\u001b[39mpow(\u001b[39m2\u001b[39m)\u001b[39m.\u001b[39mmean()\u001b[39m}\u001b[39;00m\u001b[39m'\u001b[39m)\n\u001b[0;32m      <a href='vscode-notebook-cell:/c%3A/Users/ASamek.ERP/Desktop/Pliki/Studia/Inzynierka/R1/5-Pruning%20ELM.ipynb#W6sZmlsZQ%3D%3D?line=1'>2</a>\u001b[0m \u001b[39mprint\u001b[39m(\u001b[39mf\u001b[39m\u001b[39m'\u001b[39m\u001b[39mTest error: \u001b[39m\u001b[39m{\u001b[39;00m(model(testset[:][\u001b[39m0\u001b[39m]\u001b[39m.\u001b[39mclone()\u001b[39m.\u001b[39mdetach()\u001b[39m.\u001b[39mreshape(\u001b[39m-\u001b[39m\u001b[39m1\u001b[39m,\u001b[39m \u001b[39m\u001b[39m1\u001b[39m))\u001b[39m-\u001b[39mtestset[:][\u001b[39m1\u001b[39m]\u001b[39m.\u001b[39mreshape(\u001b[39m-\u001b[39m\u001b[39m1\u001b[39m,\u001b[39m \u001b[39m\u001b[39m1\u001b[39m))\u001b[39m.\u001b[39mreshape(\u001b[39m-\u001b[39m\u001b[39m1\u001b[39m)\u001b[39m.\u001b[39mpow(\u001b[39m2\u001b[39m)\u001b[39m.\u001b[39mmean()\u001b[39m}\u001b[39;00m\u001b[39m'\u001b[39m)\n\u001b[0;32m      <a href='vscode-notebook-cell:/c%3A/Users/ASamek.ERP/Desktop/Pliki/Studia/Inzynierka/R1/5-Pruning%20ELM.ipynb#W6sZmlsZQ%3D%3D?line=2'>3</a>\u001b[0m plt\u001b[39m.\u001b[39mplot(x_data, y_data)\n",
      "File \u001b[1;32mc:\\Users\\ASamek.ERP\\AppData\\Local\\Programs\\Python\\Python311\\Lib\\site-packages\\torch\\nn\\modules\\module.py:1501\u001b[0m, in \u001b[0;36mModule._call_impl\u001b[1;34m(self, *args, **kwargs)\u001b[0m\n\u001b[0;32m   1496\u001b[0m \u001b[39m# If we don't have any hooks, we want to skip the rest of the logic in\u001b[39;00m\n\u001b[0;32m   1497\u001b[0m \u001b[39m# this function, and just call forward.\u001b[39;00m\n\u001b[0;32m   1498\u001b[0m \u001b[39mif\u001b[39;00m \u001b[39mnot\u001b[39;00m (\u001b[39mself\u001b[39m\u001b[39m.\u001b[39m_backward_hooks \u001b[39mor\u001b[39;00m \u001b[39mself\u001b[39m\u001b[39m.\u001b[39m_backward_pre_hooks \u001b[39mor\u001b[39;00m \u001b[39mself\u001b[39m\u001b[39m.\u001b[39m_forward_hooks \u001b[39mor\u001b[39;00m \u001b[39mself\u001b[39m\u001b[39m.\u001b[39m_forward_pre_hooks\n\u001b[0;32m   1499\u001b[0m         \u001b[39mor\u001b[39;00m _global_backward_pre_hooks \u001b[39mor\u001b[39;00m _global_backward_hooks\n\u001b[0;32m   1500\u001b[0m         \u001b[39mor\u001b[39;00m _global_forward_hooks \u001b[39mor\u001b[39;00m _global_forward_pre_hooks):\n\u001b[1;32m-> 1501\u001b[0m     \u001b[39mreturn\u001b[39;00m forward_call(\u001b[39m*\u001b[39;49margs, \u001b[39m*\u001b[39;49m\u001b[39m*\u001b[39;49mkwargs)\n\u001b[0;32m   1502\u001b[0m \u001b[39m# Do not call functions when jit is used\u001b[39;00m\n\u001b[0;32m   1503\u001b[0m full_backward_hooks, non_full_backward_hooks \u001b[39m=\u001b[39m [], []\n",
      "File \u001b[1;32mc:\\Users\\ASamek.ERP\\Desktop\\Pliki\\Studia\\Inzynierka\\R1\\Dataset.py:24\u001b[0m, in \u001b[0;36mELM.forward\u001b[1;34m(self, x)\u001b[0m\n\u001b[0;32m     23\u001b[0m \u001b[39mdef\u001b[39;00m \u001b[39mforward\u001b[39m(\u001b[39mself\u001b[39m, x):\n\u001b[1;32m---> 24\u001b[0m     x \u001b[39m=\u001b[39m \u001b[39mself\u001b[39;49m\u001b[39m.\u001b[39;49mfc1(x)\n\u001b[0;32m     25\u001b[0m     x \u001b[39m=\u001b[39m \u001b[39mself\u001b[39m\u001b[39m.\u001b[39mact(x)\n\u001b[0;32m     26\u001b[0m     x \u001b[39m=\u001b[39m \u001b[39mself\u001b[39m\u001b[39m.\u001b[39mfc2(x)\n",
      "File \u001b[1;32mc:\\Users\\ASamek.ERP\\AppData\\Local\\Programs\\Python\\Python311\\Lib\\site-packages\\torch\\nn\\modules\\module.py:1501\u001b[0m, in \u001b[0;36mModule._call_impl\u001b[1;34m(self, *args, **kwargs)\u001b[0m\n\u001b[0;32m   1496\u001b[0m \u001b[39m# If we don't have any hooks, we want to skip the rest of the logic in\u001b[39;00m\n\u001b[0;32m   1497\u001b[0m \u001b[39m# this function, and just call forward.\u001b[39;00m\n\u001b[0;32m   1498\u001b[0m \u001b[39mif\u001b[39;00m \u001b[39mnot\u001b[39;00m (\u001b[39mself\u001b[39m\u001b[39m.\u001b[39m_backward_hooks \u001b[39mor\u001b[39;00m \u001b[39mself\u001b[39m\u001b[39m.\u001b[39m_backward_pre_hooks \u001b[39mor\u001b[39;00m \u001b[39mself\u001b[39m\u001b[39m.\u001b[39m_forward_hooks \u001b[39mor\u001b[39;00m \u001b[39mself\u001b[39m\u001b[39m.\u001b[39m_forward_pre_hooks\n\u001b[0;32m   1499\u001b[0m         \u001b[39mor\u001b[39;00m _global_backward_pre_hooks \u001b[39mor\u001b[39;00m _global_backward_hooks\n\u001b[0;32m   1500\u001b[0m         \u001b[39mor\u001b[39;00m _global_forward_hooks \u001b[39mor\u001b[39;00m _global_forward_pre_hooks):\n\u001b[1;32m-> 1501\u001b[0m     \u001b[39mreturn\u001b[39;00m forward_call(\u001b[39m*\u001b[39;49margs, \u001b[39m*\u001b[39;49m\u001b[39m*\u001b[39;49mkwargs)\n\u001b[0;32m   1502\u001b[0m \u001b[39m# Do not call functions when jit is used\u001b[39;00m\n\u001b[0;32m   1503\u001b[0m full_backward_hooks, non_full_backward_hooks \u001b[39m=\u001b[39m [], []\n",
      "File \u001b[1;32mc:\\Users\\ASamek.ERP\\AppData\\Local\\Programs\\Python\\Python311\\Lib\\site-packages\\torch\\nn\\modules\\linear.py:114\u001b[0m, in \u001b[0;36mLinear.forward\u001b[1;34m(self, input)\u001b[0m\n\u001b[0;32m    113\u001b[0m \u001b[39mdef\u001b[39;00m \u001b[39mforward\u001b[39m(\u001b[39mself\u001b[39m, \u001b[39minput\u001b[39m: Tensor) \u001b[39m-\u001b[39m\u001b[39m>\u001b[39m Tensor:\n\u001b[1;32m--> 114\u001b[0m     \u001b[39mreturn\u001b[39;00m F\u001b[39m.\u001b[39;49mlinear(\u001b[39minput\u001b[39;49m, \u001b[39mself\u001b[39;49m\u001b[39m.\u001b[39;49mweight, \u001b[39mself\u001b[39;49m\u001b[39m.\u001b[39;49mbias)\n",
      "\u001b[1;31mRuntimeError\u001b[0m: Expected all tensors to be on the same device, but found at least two devices, cuda:0 and cpu! (when checking argument for argument mat1 in method wrapper_CUDA_addmm)"
     ]
    }
   ],
   "source": [
    "print(f'Train error: {(model(trainset[:][0].clone().detach().reshape(-1, 1))-trainset[:][1].reshape(-1, 1)).reshape(-1).pow(2).mean()}')\n",
    "print(f'Test error: {(model(testset[:][0].clone().detach().reshape(-1, 1))-testset[:][1].reshape(-1, 1)).reshape(-1).pow(2).mean()}')\n",
    "plt.plot(x_data, y_data)\n",
    "plt.plot(x_data, model(torch.tensor(x_data).reshape(-1, 1)).detach().numpy(), 'r--')\n",
    "plt.legend(['Dane', 'Model'], loc='upper right')\n",
    "plt.grid()\n",
    "plt.show()"
   ]
  },
  {
   "cell_type": "code",
   "execution_count": null,
   "metadata": {},
   "outputs": [],
   "source": [
    "plt.plot([np.min(y_data), np.max(y_data)], [np.min(y_data), np.max(y_data)])\n",
    "plt.plot(y_data, model(torch.tensor(x_data).reshape(-1, 1)).detach().numpy(), '.', markersize=1)\n",
    "plt.grid()\n",
    "plt.show()"
   ]
  }
 ],
 "metadata": {
  "kernelspec": {
   "display_name": "Python 3",
   "language": "python",
   "name": "python3"
  },
  "language_info": {
   "codemirror_mode": {
    "name": "ipython",
    "version": 3
   },
   "file_extension": ".py",
   "mimetype": "text/x-python",
   "name": "python",
   "nbconvert_exporter": "python",
   "pygments_lexer": "ipython3",
   "version": "3.11.4"
  }
 },
 "nbformat": 4,
 "nbformat_minor": 2
}
