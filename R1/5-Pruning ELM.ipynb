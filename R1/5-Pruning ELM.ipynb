{
 "cells": [
  {
   "cell_type": "code",
   "execution_count": null,
   "metadata": {},
   "outputs": [],
   "source": [
    "import copy\n",
    "import torch\n",
    "import numpy as np\n",
    "import torch.nn as nn\n",
    "import matplotlib.pyplot as plt\n",
    "from Dataset import Dataset\n",
    "from torch.utils.data import DataLoader\n",
    "torch.set_default_dtype(torch.float64)"
   ]
  },
  {
   "cell_type": "code",
   "execution_count": null,
   "metadata": {},
   "outputs": [],
   "source": [
    "x_data = np.float64(np.linspace(-15, 15, 600))\n",
    "y_data = np.float64(np.sin(x_data) / x_data)"
   ]
  },
  {
   "cell_type": "code",
   "execution_count": null,
   "metadata": {},
   "outputs": [],
   "source": [
    "dataset = Dataset(x_data, y_data)\n",
    "trainset, testset = torch.utils.data.random_split(dataset, [0.9, 0.1], generator=torch.Generator().manual_seed(42))\n",
    "\n",
    "trainloader = DataLoader(trainset, batch_size=256, shuffle=True)\n",
    "testloader = DataLoader(testset, batch_size=256, shuffle=False)\n",
    "\n",
    "activation = nn.Sigmoid()"
   ]
  },
  {
   "cell_type": "code",
   "execution_count": null,
   "metadata": {},
   "outputs": [],
   "source": [
    "class ELM(nn.Module):\n",
    "    def __init__(self, input_size, hidden_size, output_size):\n",
    "        super().__init__()\n",
    "        self.fc1 = nn.Linear(input_size, hidden_size)\n",
    "        self.fc2 = nn.Linear(hidden_size, output_size)\n",
    "\n",
    "    def forward(self, x):\n",
    "        x = self.fc1(x)\n",
    "        x = activation(x)\n",
    "        x = self.fc2(x)\n",
    "        return x\n",
    "    \n",
    "# model = ELM(1, 300, 1)"
   ]
  },
  {
   "cell_type": "code",
   "execution_count": null,
   "metadata": {},
   "outputs": [],
   "source": [
    "# V = activation(model.fc1.bias.data.reshape(-1, 1) + model.fc1.weight.data @ trainset[:][0].reshape(1, -1))\n",
    "# H = torch.concatenate([torch.ones(1, len(trainset)), V], dim=0).T\n",
    "# T = trainset[:][1].reshape(1, -1).T\n",
    "# W2 = torch.linalg.pinv(H) @ T.reshape(1, -1, 1)\n",
    "# model.fc2.bias.data, model.fc2.weight.data = W2[0][0], W2[0][1:].T"
   ]
  },
  {
   "cell_type": "code",
   "execution_count": null,
   "metadata": {},
   "outputs": [],
   "source": [
    "def infGain(model, loader, i):\n",
    "    model.eval()\n",
    "    loss = 0\n",
    "    for x, y in loader:\n",
    "        x, y = x.reshape(-1, 1), y.reshape(-1, 1)\n",
    "        preds = model(x)\n",
    "        loss += torch.norm(preds - y) \n",
    "    return loss\n",
    "\n",
    "def prune(model, loader):\n",
    "    inf = []\n",
    "    model.eval()\n",
    "    with torch.no_grad():\n",
    "        for i in range(model.fc1.out_features):\n",
    "            fc1_weight_temp = copy.deepcopy(model.fc1.weight.data[i])\n",
    "            fc1_bias_temp = copy.deepcopy(model.fc1.bias.data[i])\n",
    "            fc2_weight_temp = copy.deepcopy(model.fc2.weight.data[:,i])\n",
    "            model.fc1.weight.data[i] = 0\n",
    "            model.fc1.bias.data[i] = 0\n",
    "            model.fc2.weight.data[:,i] = 0\n",
    "            inf.append(infGain(model, loader, i))\n",
    "            model.fc1.weight.data[i] = fc1_weight_temp\n",
    "            model.fc1.bias.data[i] = fc1_bias_temp\n",
    "            model.fc2.weight.data[:,i] = fc2_weight_temp\n",
    "        neuron_to_prune = np.argmin(inf)\n",
    "        pruned_model = ELM(1, model.fc1.out_features-1, 1)\n",
    "        pruned_model.fc1.weight.data = torch.cat([model.fc1.weight.data[:neuron_to_prune], model.fc1.weight.data[neuron_to_prune+1:]])\n",
    "        pruned_model.fc1.bias.data = torch.cat([model.fc1.bias.data[:neuron_to_prune], model.fc1.bias.data[neuron_to_prune+1:]])\n",
    "        pruned_model.fc2.weight.data = torch.cat([model.fc2.weight.data[:,:neuron_to_prune],model.fc2.weight.data[:,neuron_to_prune+1:]], dim=1)\n",
    "    return pruned_model\n",
    "\n",
    "# for _ in range(2):\n",
    "#     model = prune(model, testloader)\n",
    "\n",
    "# V = activation(model.fc1.bias.data.reshape(-1, 1) + model.fc1.weight.data @ trainset[:][0].reshape(1, -1))\n",
    "# H = torch.concatenate([torch.ones(1, len(trainset)), V], dim=0).T\n",
    "# T = trainset[:][1].reshape(1, -1).T\n",
    "# W2 = torch.linalg.pinv(H) @ T.reshape(1, -1, 1)\n",
    "# model.fc2.bias.data, model.fc2.weight.data = W2[0][0], W2[0][1:].T"
   ]
  },
  {
   "cell_type": "code",
   "execution_count": null,
   "metadata": {},
   "outputs": [],
   "source": [
    "fig, ax = plt.subplots(1, 2, figsize=(15, 5))\n",
    "max_train_error = []\n",
    "min_train_error = []\n",
    "max_test_error = []\n",
    "min_test_error = []\n",
    "num_neurons = 200\n",
    "for j in range(1, num_neurons+1):\n",
    "    print(j)\n",
    "    train_error = []\n",
    "    test_error = []\n",
    "    for i in range(10):\n",
    "        model = ELM(1, 5*j, 1)\n",
    "        V = activation(model.fc1.bias.data.reshape(-1, 1) + model.fc1.weight.data @ trainset[:][0].reshape(1, -1))\n",
    "        H = torch.concatenate([torch.ones(1, len(trainset)), V], dim=0).T\n",
    "        T = trainset[:][1].reshape(1, -1).T\n",
    "        W2 = torch.linalg.pinv(H) @ T.reshape(1, -1, 1) # bez regularyzacji\n",
    "        # P = torch.linalg.inv(H.T @ H + 1e-3*torch.eye(H.shape[1]))\n",
    "        # W2 = P @ H.T @ T.reshape(1, -1, 1)\n",
    "        model.fc2.bias.data, model.fc2.weight.data = W2[0][0], W2[0][1:].T\n",
    "        for _ in range(max(int(5*j*0.02), 1)):\n",
    "            model = prune(model, testloader)\n",
    "        V = activation(model.fc1.bias.data.reshape(-1, 1) + model.fc1.weight.data @ trainset[:][0].reshape(1, -1))\n",
    "        H = torch.concatenate([torch.ones(1, len(trainset)), V], dim=0).T\n",
    "        T = trainset[:][1].reshape(1, -1).T\n",
    "        W2 = torch.linalg.pinv(H) @ T.reshape(1, -1, 1)\n",
    "        # P = torch.linalg.inv(H.T @ H + 1e-3*torch.eye(H.shape[1]))\n",
    "        # W2 = P @ H.T @ T.reshape(1, -1, 1)\n",
    "        model.fc2.bias.data, model.fc2.weight.data = W2[0][0], W2[0][1:].T\n",
    "        train_error.append((model(trainset[:][0].clone().detach().reshape(-1, 1))-trainset[:][1].reshape(-1, 1)).reshape(-1).pow(2).mean())\n",
    "        test_error.append((model(testset[:][0].clone().detach().reshape(-1, 1))-testset[:][1].reshape(-1, 1)).reshape(-1).pow(2).mean())\n",
    "    max_train_error.append(max(train_error).item())\n",
    "    min_train_error.append(min(train_error).item())\n",
    "    max_test_error.append(max(test_error).item())\n",
    "    min_test_error.append(min(test_error).item())\n",
    "ax[0].plot([5*i+5 for i in range(num_neurons)], max_train_error, 'r', label='Błąd maksymalny')\n",
    "ax[0].plot([5*i+5 for i in range(num_neurons)], min_train_error, 'b', label='Błąd minimalny')\n",
    "ax[0].set_ylabel('Błąd średniokwadratowy zbioru uczącego')\n",
    "ax[0].set_xlabel('Liczba neuronów')\n",
    "ax[0].set_yscale('log')\n",
    "ax[0].grid()\n",
    "ax[0].legend(loc='upper right')\n",
    "ax[1].plot([5*i+5 for i in range(num_neurons)], max_test_error, 'r', label='Błąd maksymalny')\n",
    "ax[1].plot([5*i+5 for i in range(num_neurons)], min_test_error, 'b', label='Błąd minimalny')\n",
    "ax[1].set_ylabel('Błąd średniokwadratowy zbioru weryfikującego')\n",
    "ax[1].set_xlabel('Liczba neuronów')\n",
    "ax[1].set_yscale('log')\n",
    "ax[1].grid()\n",
    "ax[1].legend(loc='upper right')\n",
    "plt.show()"
   ]
  },
  {
   "cell_type": "code",
   "execution_count": null,
   "metadata": {},
   "outputs": [],
   "source": [
    "print(f'Train error: {(model(trainset[:][0].clone().detach().reshape(-1, 1))-trainset[:][1].reshape(-1, 1)).reshape(-1).pow(2).mean()}')\n",
    "print(f'Test error: {(model(testset[:][0].clone().detach().reshape(-1, 1))-testset[:][1].reshape(-1, 1)).reshape(-1).pow(2).mean()}')\n",
    "plt.plot(x_data, y_data)\n",
    "plt.plot(x_data, model(torch.tensor(x_data).reshape(-1, 1)).detach().numpy(), 'r--')\n",
    "plt.legend(['Dane', 'Model'], loc='upper right')\n",
    "plt.grid()\n",
    "plt.show()"
   ]
  },
  {
   "cell_type": "code",
   "execution_count": null,
   "metadata": {},
   "outputs": [],
   "source": [
    "plt.plot([np.min(y_data), np.max(y_data)], [np.min(y_data), np.max(y_data)])\n",
    "plt.plot(y_data, model(torch.tensor(x_data).reshape(-1, 1)).detach().numpy(), '.', markersize=1)\n",
    "plt.grid()\n",
    "plt.show()"
   ]
  }
 ],
 "metadata": {
  "kernelspec": {
   "display_name": "Python 3",
   "language": "python",
   "name": "python3"
  },
  "language_info": {
   "codemirror_mode": {
    "name": "ipython",
    "version": 3
   },
   "file_extension": ".py",
   "mimetype": "text/x-python",
   "name": "python",
   "nbconvert_exporter": "python",
   "pygments_lexer": "ipython3",
   "version": "3.11.4"
  }
 },
 "nbformat": 4,
 "nbformat_minor": 2
}
