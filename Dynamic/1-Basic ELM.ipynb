{
 "cells": [
  {
   "cell_type": "code",
   "execution_count": null,
   "metadata": {},
   "outputs": [],
   "source": [
    "import torch\n",
    "import numpy as np\n",
    "import torch.nn as nn\n",
    "from scipy.io import loadmat\n",
    "import matplotlib.pyplot as plt\n",
    "from Dataset import Dataset, ELM, device\n",
    "torch.set_default_dtype(torch.float64)"
   ]
  },
  {
   "cell_type": "code",
   "execution_count": null,
   "metadata": {},
   "outputs": [],
   "source": [
    "train = loadmat('data_training_reactor_pol.mat')\n",
    "test = loadmat('data_validation_reactor_pol.mat')\n",
    "\n",
    "y_train = 0.0001*(train['NAMW'][0]-train['NAMW'][0][0])\n",
    "y_test = 0.0001*(test['NAMW'][0]-test['NAMW'][0][0])\n",
    "\n",
    "x_train = np.concatenate((100*np.concatenate(([[0]], (train['FI'].T[1:]-train['FI'].T[0])), axis=0),\n",
    "                          100*np.concatenate(([[0], [0]], (train['FI'].T[2:]-train['FI'].T[0])), axis=0),\n",
    "                          np.concatenate(([0], y_train[1:]), axis=0).reshape(-1, 1),\n",
    "                          np.concatenate(([0, 0], y_train[2:]), axis=0).reshape(-1, 1)), axis=1)\n",
    "\n",
    "x_test = np.concatenate((100*np.concatenate(([[0]], (test['FI'].T[1:]-test['FI'].T[0])), axis=0),\n",
    "                         100*np.concatenate(([[0], [0]], (test['FI'].T[2:]-test['FI'].T[0])), axis=0),\n",
    "                         np.concatenate(([0], y_test[1:]), axis=0).reshape(-1, 1),\n",
    "                         np.concatenate(([0, 0], y_test[2:]), axis=0).reshape(-1, 1)), axis=1)"
   ]
  },
  {
   "cell_type": "code",
   "execution_count": null,
   "metadata": {},
   "outputs": [],
   "source": [
    "trainset = Dataset(x_train, y_train)\n",
    "testset = Dataset(x_test, y_test)\n",
    "\n",
    "activation = nn.Sigmoid()"
   ]
  },
  {
   "cell_type": "code",
   "execution_count": null,
   "metadata": {},
   "outputs": [],
   "source": [
    "model = ELM(4, 50, 1).to(device)\n",
    "\n",
    "V = activation(model.fc1.bias.data.reshape(-1, 1) + model.fc1.weight.data @ trainset[:][0].T.to(device))\n",
    "H = torch.concatenate([torch.ones(1, len(trainset)).to(device), V.to(device)], dim=0).T\n",
    "T = trainset[:][1].reshape(1, -1).T.to(device)\n",
    "W2 = torch.linalg.pinv(H) @ T.reshape(1, -1, 1)\n",
    "model.fc2.bias.data, model.fc2.weight.data = W2[0][0], W2[0][1:].T"
   ]
  },
  {
   "cell_type": "code",
   "execution_count": null,
   "metadata": {},
   "outputs": [],
   "source": [
    "fig, ax = plt.subplots(1, 2, figsize=(15, 5))\n",
    "max_train_error = []\n",
    "min_train_error = []\n",
    "max_test_error = []\n",
    "min_test_error = []\n",
    "num_neurons = 200\n",
    "for j in range(1, num_neurons+1):\n",
    "    train_error = []\n",
    "    test_error = []\n",
    "    for i in range(10):\n",
    "        model = ELM(4, 5*j, 1).to(device)\n",
    "        V = activation(model.fc1.bias.data.reshape(-1, 1) + model.fc1.weight.data @ trainset[:][0].T.to(device))\n",
    "        H = torch.concatenate([torch.ones(1, len(trainset)).to(device), V.to(device)], dim=0).T\n",
    "        T = trainset[:][1].reshape(1, -1).T.to(device)\n",
    "        W2 = torch.linalg.pinv(H) @ T.reshape(1, -1, 1) # bez regularyzacji\n",
    "        # P = torch.linalg.inv(H.T @ H + 1e-3*torch.eye(H.shape[1]).to(device))\n",
    "        # W2 = P @ H.T @ T.reshape(1, -1, 1)\n",
    "        model.fc2.bias.data, model.fc2.weight.data = W2[0][0], W2[0][1:].T\n",
    "        train_error.append((model(trainset[:][0].clone().detach().reshape(-1, 4).to(device))-trainset[:][1].reshape(-1, 1).to(device)).reshape(-1).pow(2).mean())\n",
    "        test_error.append((model(testset[:][0].clone().detach().reshape(-1, 4).to(device))-testset[:][1].reshape(-1, 1).to(device)).reshape(-1).pow(2).mean())\n",
    "    max_train_error.append(max(train_error).item())\n",
    "    min_train_error.append(min(train_error).item())\n",
    "    max_test_error.append(max(test_error).item())\n",
    "    min_test_error.append(min(test_error).item())\n",
    "ax[0].plot([5*i+5 for i in range(num_neurons)], max_train_error, 'r', label='Błąd maksymalny')\n",
    "ax[0].plot([5*i+5 for i in range(num_neurons)], min_train_error, 'b', label='Błąd minimalny')\n",
    "ax[0].set_ylabel('Błąd średniokwadratowy zbioru uczącego')\n",
    "ax[0].set_xlabel('Liczba neuronów')\n",
    "ax[0].set_yscale('log')\n",
    "ax[0].grid()\n",
    "ax[0].legend(loc='upper right')\n",
    "ax[1].plot([5*i+5 for i in range(num_neurons)], max_test_error, 'r', label='Błąd maksymalny')\n",
    "ax[1].plot([5*i+5 for i in range(num_neurons)], min_test_error, 'b', label='Błąd minimalny')\n",
    "ax[1].set_ylabel('Błąd średniokwadratowy zbioru weryfikującego')\n",
    "ax[1].set_xlabel('Liczba neuronów')\n",
    "ax[1].set_yscale('log')\n",
    "ax[1].grid()\n",
    "ax[1].legend(loc='upper right')\n",
    "plt.show()\n",
    "from decimal import Decimal\n",
    "for i, error in enumerate(min_test_error):\n",
    "    if i+1 in [1, 2, 10, 20, 100, 200]:\n",
    "        print(f'{Decimal(error):.2e}', end=' & ')"
   ]
  },
  {
   "cell_type": "code",
   "execution_count": null,
   "metadata": {},
   "outputs": [],
   "source": [
    "print(f'Train error: {(model(trainset[:][0].clone().detach().reshape(-1, 4).to(device))-trainset[:][1].reshape(-1, 1).to(device)).reshape(-1).pow(2).mean()}')\n",
    "print(f'Test error: {(model(testset[:][0].clone().detach().reshape(-1, 4).to(device))-testset[:][1].reshape(-1, 1).to(device)).reshape(-1).pow(2).mean()}')\n",
    "plt.plot(y_test)\n",
    "plt.plot(model(torch.tensor(x_test).reshape(-1, 4).to(device)).cpu().detach().numpy(), 'r--')\n",
    "plt.legend(['Dane weryfikujące', 'Model'], loc='upper right')\n",
    "plt.xlabel('x')\n",
    "plt.ylabel('y')\n",
    "plt.grid()\n",
    "plt.show()"
   ]
  },
  {
   "cell_type": "code",
   "execution_count": null,
   "metadata": {},
   "outputs": [],
   "source": [
    "plt.plot([np.min(y_test), np.max(y_test)], [np.min(y_test), np.max(y_test)])\n",
    "plt.plot(y_test, model(torch.tensor(x_test).reshape(-1, 4).to(device)).cpu().detach().numpy(), '.', markersize=1)\n",
    "plt.grid()\n",
    "plt.show()"
   ]
  }
 ],
 "metadata": {
  "kernelspec": {
   "display_name": "Python 3",
   "language": "python",
   "name": "python3"
  },
  "language_info": {
   "codemirror_mode": {
    "name": "ipython",
    "version": 3
   },
   "file_extension": ".py",
   "mimetype": "text/x-python",
   "name": "python",
   "nbconvert_exporter": "python",
   "pygments_lexer": "ipython3",
   "version": "3.11.4"
  }
 },
 "nbformat": 4,
 "nbformat_minor": 2
}
