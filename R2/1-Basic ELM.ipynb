{
 "cells": [
  {
   "cell_type": "code",
   "execution_count": null,
   "metadata": {},
   "outputs": [],
   "source": [
    "import torch\n",
    "import numpy as np\n",
    "import torch.nn as nn\n",
    "import matplotlib.pyplot as plt\n",
    "from Dataset import Dataset, ELM, device\n",
    "torch.set_default_dtype(torch.float64)"
   ]
  },
  {
   "cell_type": "code",
   "execution_count": null,
   "metadata": {},
   "outputs": [],
   "source": [
    "num_of_samples = 80\n",
    "x_data = np.float64(np.linspace(-5, 5, num_of_samples))\n",
    "y_data = np.float64(np.linspace(-5, 5, num_of_samples))\n",
    "\n",
    "X, Y = np.meshgrid(x_data, y_data)\n",
    "Z = np.sin(X)*np.cos(Y)\n",
    "fig = plt.figure()\n",
    "ax = plt.axes(projection='3d')\n",
    "ax.set_xlabel('x')\n",
    "ax.set_ylabel('y')\n",
    "ax.contour3D(X, Y, Z, 200)\n",
    "plt.show()"
   ]
  },
  {
   "cell_type": "code",
   "execution_count": null,
   "metadata": {},
   "outputs": [],
   "source": [
    "dataset = Dataset(np.concatenate((X.reshape(-1, 1), Y.reshape(-1, 1)), axis=1), Z.reshape(-1, 1))\n",
    "trainset, testset = torch.utils.data.random_split(dataset, [0.9, 0.1], generator=torch.Generator().manual_seed(42))\n",
    "\n",
    "activation = nn.Sigmoid()"
   ]
  },
  {
   "cell_type": "code",
   "execution_count": null,
   "metadata": {},
   "outputs": [],
   "source": [
    "model = ELM(2, 100, 1).to(device)"
   ]
  },
  {
   "cell_type": "code",
   "execution_count": null,
   "metadata": {},
   "outputs": [],
   "source": [
    "V = activation(model.fc1.bias.data.reshape(-1, 1) + model.fc1.weight.data @ trainset[:][0].T.to(device))\n",
    "H = torch.concatenate([torch.ones(1, len(trainset)).to(device), V.to(device)], dim=0).T\n",
    "T = trainset[:][1].reshape(1, -1).T.to(device)\n",
    "W2 = torch.linalg.pinv(H) @ T.reshape(1, -1, 1)\n",
    "model.fc2.bias.data, model.fc2.weight.data = W2[0][0], W2[0][1:].T"
   ]
  },
  {
   "cell_type": "code",
   "execution_count": null,
   "metadata": {},
   "outputs": [],
   "source": [
    "print(f'Train error: {(model(trainset[:][0].clone().detach().reshape(-1, 2).to(device))-trainset[:][1].reshape(-1, 1).to(device)).cpu().reshape(-1).pow(2).mean()}')\n",
    "print(f'Test error: {(model(testset[:][0].clone().detach().reshape(-1, 2).to(device))-testset[:][1].reshape(-1, 1).to(device)).cpu().reshape(-1).pow(2).mean()}')\n",
    "X, Y = np.meshgrid(x_data, y_data)\n",
    "fig = plt.figure(figsize=plt.figaspect(0.5))\n",
    "ax = fig.add_subplot(1, 2, 1, projection='3d')\n",
    "surf = ax.plot_surface(X, Y, Z, rstride=1, cstride=1, cmap='viridis')\n",
    "ax.set_zticks([])\n",
    "ax.set_title('Dane')\n",
    "fig.colorbar(surf, shrink=0.5, aspect=10)\n",
    "\n",
    "ax = fig.add_subplot(1, 2, 2, projection='3d')\n",
    "surf = ax.plot_surface(X, Y, model(torch.cat((torch.Tensor(X).reshape(-1, 1), torch.Tensor(Y).reshape(-1, 1)), axis=1).to(device)).cpu().detach().numpy().reshape(num_of_samples, num_of_samples), rstride=1, cstride=1, cmap='viridis')\n",
    "ax.set_zticks([])\n",
    "ax.set_title('Model')\n",
    "fig.colorbar(surf, shrink=0.5, aspect=10)\n",
    "\n",
    "plt.show()"
   ]
  },
  {
   "cell_type": "code",
   "execution_count": null,
   "metadata": {},
   "outputs": [],
   "source": [
    "import plotly.graph_objects as go\n",
    "\n",
    "predictions = model(torch.cat((torch.Tensor(X).reshape(-1, 1), torch.Tensor(Y).reshape(-1, 1)), axis=1).to(device)).cpu().detach().numpy().reshape(-1)\n",
    "trace1 = go.Scatter3d(\n",
    "    x=X.reshape(-1),\n",
    "    y=Y.reshape(-1),\n",
    "    z=Z.reshape(-1),\n",
    "    mode='markers',\n",
    "    marker=dict(\n",
    "        size=2,\n",
    "        color=Z.reshape(-1),\n",
    "        colorscale='Viridis',\n",
    "        colorbar=dict(title='Data - predicitions'),\n",
    "    ),\n",
    "    name='Model'\n",
    ")\n",
    "fig = go.Figure(data=[trace1], layout=dict(width=700, height=500))\n",
    "# fig.update_layout(\n",
    "#     scene = dict(\n",
    "#         xaxis = dict(range=[-5,5]),\n",
    "#         yaxis = dict(range=[-5,5]),\n",
    "#         zaxis = dict(range=[-0.1,0.1]),),\n",
    "#     width=700,\n",
    "#     margin=dict(r=20, l=10, b=10, t=10)\n",
    "# )\n",
    "fig.show()"
   ]
  },
  {
   "cell_type": "code",
   "execution_count": null,
   "metadata": {},
   "outputs": [],
   "source": [
    "plt.plot([np.min(Z), np.max(Z)], [np.min(Z), np.max(Z)])\n",
    "plt.plot(Z.reshape(-1), model(torch.cat((torch.Tensor(X).reshape(-1, 1), torch.Tensor(Y).reshape(-1, 1)), axis=1)).detach().numpy().reshape(-1), '.', markersize=1)\n",
    "plt.grid()\n",
    "plt.show()"
   ]
  }
 ],
 "metadata": {
  "kernelspec": {
   "display_name": "Python 3",
   "language": "python",
   "name": "python3"
  },
  "language_info": {
   "codemirror_mode": {
    "name": "ipython",
    "version": 3
   },
   "file_extension": ".py",
   "mimetype": "text/x-python",
   "name": "python",
   "nbconvert_exporter": "python",
   "pygments_lexer": "ipython3",
   "version": "3.11.4"
  }
 },
 "nbformat": 4,
 "nbformat_minor": 2
}
